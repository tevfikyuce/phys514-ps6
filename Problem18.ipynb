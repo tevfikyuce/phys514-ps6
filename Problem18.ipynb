{
 "cells": [
  {
   "cell_type": "markdown",
   "metadata": {},
   "source": [
    "PHYS 514 -- PS#6 -- Problem 18 -- Tevfik Can Yüce, 64065"
   ]
  },
  {
   "cell_type": "code",
   "execution_count": 1,
   "metadata": {},
   "outputs": [],
   "source": [
    "import numpy as np\n",
    "import matplotlib.pyplot as plt\n",
    "import scipy.optimize"
   ]
  },
  {
   "cell_type": "markdown",
   "metadata": {},
   "source": [
    "Part (a):"
   ]
  },
  {
   "cell_type": "code",
   "execution_count": 3,
   "metadata": {},
   "outputs": [],
   "source": [
    "def numerical_derivative(fx, a, b):\n",
    "    #First find the spacing h\n",
    "    N = len(fx) #Number of sample points\n",
    "    h = np.abs(b-a)/(N-1) #Spacing\n",
    "\n",
    "    dfx = np.zeros(N) #Declare zero array at the same length with fx\n",
    "    #First handle central points\n",
    "    dfx[1:-1] = (0.5*fx[2:] - 0.5*fx[0:-2])/h\n",
    "    dfx[0] = ((-3/2)*fx[0] + 2*fx[1] - (1/2)*fx[2])/h\n",
    "    dfx[-1] = ((3/2)*fx[-1] -2*fx[-2] + (1/2)*fx[-3])/h\n",
    "\n",
    "    return dfx"
   ]
  },
  {
   "cell_type": "code",
   "execution_count": 4,
   "metadata": {},
   "outputs": [],
   "source": [
    "def simpson_integral(fun, a, b):\n",
    "    N = len(fun) #Number of sample points of function\n",
    "    h = (b-a)/(N-1) #Sampling distance\n",
    "    I = np.zeros(N) #Initialize integral vector\n",
    "    for i in range(N):\n",
    "        if i==0:\n",
    "            I[i] = 0 #Zeroth point is set to zero\n",
    "        elif i==1:\n",
    "            I[i] = ((5/12)*fun[i] + (8/12)*fun[i-1])*h #First point is manually done\n",
    "        elif np.remainder(i,2) == 0:\n",
    "            #If number of interval is even\n",
    "            I[i] = I[i-2] + (h/3)*(fun[i-2] + 4*fun[i-1] + fun[i])\n",
    "        elif np.remainder(i,2) == 1:\n",
    "            #If number of interval is odd\n",
    "            I[i] = I[i-1] + (h/12)*(5*fun[i] + 8*fun[i-1] - fun[i-2])\n",
    "        else:\n",
    "            print('Something is wrong with Simspon Integrator !!!')\n",
    "    return I[-1]"
   ]
  },
  {
   "cell_type": "code",
   "execution_count": 16,
   "metadata": {},
   "outputs": [],
   "source": [
    "#Parameter decleration\n",
    "xi = np.asarray([0, 0]).astype(float)\n",
    "xf = np.asarray([1, -1]).astype(float)\n",
    "\n",
    "N = 100 #Number of sample points\n",
    "g = 9.81 #Gravitational accelaration\n",
    "\n",
    "#Create initial guess\n",
    "y0 = np.zeros(N) #Initial guess\n",
    "\n",
    "#Define cost function to minimize\n",
    "def cost_function(x):\n",
    "    y = np.insert(x, 0, xi[1])\n",
    "    y = np.append(y, xf[1])\n",
    "\n",
    "    #Calculate integrand to calculate cost\n",
    "    integrand = np.sqrt((1 + np.power(numerical_derivative(y, xi[0], xf[0]), 2)))\n",
    "    #Take integral\n",
    "    return simpson_integral(integrand, xi[0], xf[0]) \n",
    "\n",
    "bounds = []\n",
    "for i in range(N):\n",
    "    bounds.append((-2,2))\n",
    "\n",
    "result = scipy.optimize.differential_evolution(func=cost_function, bounds=bounds , x0=y0)"
   ]
  },
  {
   "cell_type": "code",
   "execution_count": 18,
   "metadata": {},
   "outputs": [
    {
     "name": "stdout",
     "output_type": "stream",
     "text": [
      "True\n"
     ]
    }
   ],
   "source": [
    "print(result.success)"
   ]
  },
  {
   "cell_type": "code",
   "execution_count": null,
   "metadata": {},
   "outputs": [],
   "source": [
    "y_final = np.insert(result.x, 0, xi[1])\n",
    "y_final = np.append(y_final, xf[1])\n",
    "plt.plot(np.linspace(xi[0], xf[0], N+2), )"
   ]
  }
 ],
 "metadata": {
  "kernelspec": {
   "display_name": "Python 3.9.12 ('base')",
   "language": "python",
   "name": "python3"
  },
  "language_info": {
   "codemirror_mode": {
    "name": "ipython",
    "version": 3
   },
   "file_extension": ".py",
   "mimetype": "text/x-python",
   "name": "python",
   "nbconvert_exporter": "python",
   "pygments_lexer": "ipython3",
   "version": "3.9.12"
  },
  "orig_nbformat": 4,
  "vscode": {
   "interpreter": {
    "hash": "49cb93f377a7abe7414b7b0f21fb3017538004a126cf690fb524202736b7fb92"
   }
  }
 },
 "nbformat": 4,
 "nbformat_minor": 2
}
